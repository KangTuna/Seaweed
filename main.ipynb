{
 "cells": [
  {
   "cell_type": "code",
   "execution_count": 3,
   "metadata": {},
   "outputs": [],
   "source": [
    "import cv2\n",
    "import pandas as pd\n",
    "import os\n",
    "import numpy as np\n",
    "import matplotlib.pyplot as plt\n",
    "import json"
   ]
  },
  {
   "cell_type": "code",
   "execution_count": 4,
   "metadata": {},
   "outputs": [],
   "source": [
    "def make_rectangle(img: np.array, js: dict) -> np.array:\n",
    "    # 사각형 좌표 구하기\n",
    "    top,bot = (js['top_x'],js['top_y']),(js['bot_x'],js['bot_y'])\n",
    "\n",
    "    # 사각형 그리기\n",
    "    cv2.rectangle(img,top,bot,(255,255,255)) # Grayscale 이라서 흰색으로 그려야됨\n",
    "    \n",
    "    return img\n",
    "\n",
    "def otsu_algorithm(img: np.array) -> np.array:\n",
    "    ret, otsu = cv2.threshold(img,-1,255,cv2.THRESH_BINARY | cv2.THRESH_OTSU)\n",
    "    return otsu"
   ]
  },
  {
   "cell_type": "code",
   "execution_count": 5,
   "metadata": {},
   "outputs": [],
   "source": [
    "## TrainData \n",
    "train_json_path = './dataset/train/train_defected_json'\n",
    "train_img_path = './dataset/train/train_defected_dataset'\n",
    "\n",
    "# make dir\n",
    "if not os.path.isdir('./dataset/Bboximages/train'):\n",
    "    os.makedirs('./dataset/Bboximages/train/st')\n",
    "    os.makedirs('./dataset/Bboximages/train/aq')\n",
    "    os.makedirs('./dataset/Bboximages/train/fl')\n",
    "\n",
    "for idx in os.listdir(train_json_path):\n",
    "    # json files load\n",
    "    with open(f'{train_json_path}/{idx}', 'r') as f:\n",
    "        json_dict = json.load(f)\n",
    "    \n",
    "    # read image\n",
    "    img = cv2.imread(f'{train_img_path}/{json_dict[\"image_name\"]}', cv2.IMREAD_GRAYSCALE)\n",
    "\n",
    "    # apply otsu algorithm\n",
    "    img = otsu_algorithm(img)\n",
    "\n",
    "    # draw rectangle\n",
    "    make_rectangle(img, json_dict)\n",
    "\n",
    "    # save image\n",
    "    cv2.imwrite(f'./dataset/Bboximages/train/{json_dict[\"defect_class\"]}/{json_dict[\"image_name\"]}',img)"
   ]
  },
  {
   "cell_type": "code",
   "execution_count": 12,
   "metadata": {},
   "outputs": [],
   "source": [
    "## Validation data \n",
    "valid_json_path = './dataset/validation/validation_defected_json'\n",
    "valid_img_path = './dataset/validation/validation_defected_dataset'\n",
    "\n",
    "# make dir\n",
    "if not os.path.isdir('./dataset/Bboximages/validation'):\n",
    "    os.makedirs('./dataset/Bboximages/validation/st')\n",
    "    os.makedirs('./dataset/Bboximages/validation/aq')\n",
    "    os.makedirs('./dataset/Bboximages/validation/fl')\n",
    "\n",
    "for idx in os.listdir(valid_json_path):\n",
    "    # json files load\n",
    "    with open(f'{valid_json_path}/{idx}', 'r') as f:\n",
    "        json_dict = json.load(f)\n",
    "    \n",
    "    # read image\n",
    "    img = cv2.imread(f'{valid_img_path}/{json_dict[\"image_name\"]}', cv2.IMREAD_GRAYSCALE)\n",
    "\n",
    "    # apply otsu algorithm\n",
    "    img = otsu_algorithm(img)\n",
    "\n",
    "    # draw rectangle\n",
    "    make_rectangle(img, json_dict)\n",
    "\n",
    "    # save image\n",
    "    cv2.imwrite(f'./dataset/Bboximages/validation/{json_dict[\"defect_class\"]}/{json_dict[\"image_name\"]}',img)"
   ]
  },
  {
   "cell_type": "code",
   "execution_count": 41,
   "metadata": {},
   "outputs": [],
   "source": [
    "# Bbox의 모든 픽셀 값을 더해서 검출 되는지 안되는지 확인\n",
    "# 이진 알고리즘 돌렸을때 검출이 된다면 Bbox 내에 반드시 흰색이 있을것이다 라는 가정\n",
    "def ROI_sum(img: np.array,js: dict) -> int:\n",
    "    img = img[js['top_y']:js['bot_y'], js['top_x']:js['bot_x']]\n",
    "    return sum(sum(img))\n",
    "\n",
    "vaild_defected_fail = []\n",
    "train_defected_fail = []\n",
    "\n",
    "# train 데이터에서 Bbox 체크\n",
    "for idx in os.listdir(train_json_path):\n",
    "    # json files load\n",
    "    with open(f'{train_json_path}/{idx}', 'r') as f:\n",
    "        json_dict = json.load(f)\n",
    "    \n",
    "    # read image\n",
    "    img = cv2.imread(f'{train_img_path}/{json_dict[\"image_name\"]}', cv2.IMREAD_GRAYSCALE)\n",
    "\n",
    "    # apply otsu algorithm\n",
    "    img = otsu_algorithm(img)\n",
    "\n",
    "    # sum of all pixels\n",
    "    pixel = ROI_sum(img, json_dict)\n",
    "\n",
    "    # check defect\n",
    "    if not pixel:\n",
    "        train_defected_fail.append(json_dict['image_name'])\n",
    "\n",
    "# validation 데이터에서 Bbox 체크 \n",
    "for idx in os.listdir(valid_json_path):\n",
    "    # json files load\n",
    "    with open(f'{valid_json_path}/{idx}', 'r') as f:\n",
    "        json_dict = json.load(f)\n",
    "    \n",
    "    # read image\n",
    "    img = cv2.imread(f'{valid_img_path}/{json_dict[\"image_name\"]}', cv2.IMREAD_GRAYSCALE)\n",
    "\n",
    "    # apply otsu algorithm\n",
    "    img = otsu_algorithm(img)\n",
    "\n",
    "    # sum of all pixels\n",
    "    pixel = ROI_sum(img, json_dict)\n",
    "\n",
    "    # check defect\n",
    "    if not pixel:\n",
    "        vaild_defected_fail.append(json_dict['image_name'])"
   ]
  },
  {
   "cell_type": "code",
   "execution_count": 44,
   "metadata": {},
   "outputs": [
    {
     "data": {
      "text/plain": [
       "0.1704"
      ]
     },
     "execution_count": 44,
     "metadata": {},
     "output_type": "execute_result"
    }
   ],
   "source": [
    "len(vaild_defected_fail),len(train_defected_fail) # 124 515\n",
    "(124+515)/3750"
   ]
  },
  {
   "cell_type": "code",
   "execution_count": null,
   "metadata": {},
   "outputs": [],
   "source": []
  }
 ],
 "metadata": {
  "kernelspec": {
   "display_name": "AIDATA",
   "language": "python",
   "name": "python3"
  },
  "language_info": {
   "codemirror_mode": {
    "name": "ipython",
    "version": 3
   },
   "file_extension": ".py",
   "mimetype": "text/x-python",
   "name": "python",
   "nbconvert_exporter": "python",
   "pygments_lexer": "ipython3",
   "version": "3.11.4"
  }
 },
 "nbformat": 4,
 "nbformat_minor": 2
}
