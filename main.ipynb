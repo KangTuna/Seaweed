{
 "cells": [
  {
   "cell_type": "code",
   "execution_count": 1,
   "metadata": {},
   "outputs": [],
   "source": [
    "import cv2\n",
    "import pandas as pd\n",
    "import os\n",
    "import numpy as np\n",
    "import matplotlib.pyplot as plt\n",
    "import json"
   ]
  },
  {
   "cell_type": "code",
   "execution_count": 2,
   "metadata": {},
   "outputs": [],
   "source": [
    "## TrainData \n",
    "train_json_path = './dataset/train/train_defected_json'\n",
    "train_img_path = './dataset/train/train_defected_dataset'\n",
    "json_files = []\n",
    "img_files = []\n",
    "\n",
    "for idx in os.listdir(train_json_path):\n",
    "    # 확장자 명 제거\n",
    "    idx = idx[:-5]\n",
    "\n",
    "    # json files load\n",
    "    with open(f'{train_json_path}/{idx}.json', 'r') as f:\n",
    "        json_files.append(json.load(f))\n",
    "    \n",
    "    # image files load\n",
    "    img_files.append(cv2.imread(f'{train_img_path}/{idx}.png', cv2.IMREAD_GRAYSCALE))"
   ]
  },
  {
   "cell_type": "code",
   "execution_count": 3,
   "metadata": {},
   "outputs": [],
   "source": [
    "def make_rectangle(img: np.array, js: dict) -> np.array:\n",
    "    # 사각형 좌표 구하기\n",
    "    top,bot = (js['top_x'],js['top_y']),(js['bot_x'],js['bot_y'])\n",
    "\n",
    "    # 사각형 그리기\n",
    "    cv2.rectangle(img,top,bot,(255,255,255)) # Grayscale 이라서 흰색으로 그려야됨\n",
    "    \n",
    "    return img\n",
    "\n",
    "def otsu_algorithm(img: np.array) -> np.array:\n",
    "    ret, otsu = cv2.threshold(img,-1,255,cv2.THRESH_BINARY | cv2.THRESH_OTSU)\n",
    "    return otsu"
   ]
  },
  {
   "cell_type": "code",
   "execution_count": 5,
   "metadata": {},
   "outputs": [],
   "source": [
    "# 파일 경로 만들기\n",
    "if not os.path.isdir('./dataset/Bboximages/train'):\n",
    "    os.makedirs('./dataset/Bboximages/train/st')\n",
    "    os.makedirs('./dataset/Bboximages/train/aq')\n",
    "    os.makedirs('./dataset/Bboximages/train/fl')\n",
    "\n",
    "# 오츠 알고리즘 적용\n",
    "img_files = list(map(otsu_algorithm,img_files))\n",
    "\n",
    "# 결함위치에 Bbox 그리기\n",
    "for i in range(len(json_files)):\n",
    "    temp = make_rectangle(img_files[i],json_files[i])\n",
    "    # 결함 종류에 따라 다르게 저장하기\n",
    "    cv2.imwrite(f'./dataset/Bboximages/train/{json_files[i][\"defect_class\"]}/{json_files[i][\"image_name\"]}',temp)"
   ]
  },
  {
   "cell_type": "code",
   "execution_count": null,
   "metadata": {},
   "outputs": [],
   "source": []
  }
 ],
 "metadata": {
  "kernelspec": {
   "display_name": "AIDATA",
   "language": "python",
   "name": "python3"
  },
  "language_info": {
   "codemirror_mode": {
    "name": "ipython",
    "version": 3
   },
   "file_extension": ".py",
   "mimetype": "text/x-python",
   "name": "python",
   "nbconvert_exporter": "python",
   "pygments_lexer": "ipython3",
   "version": "3.11.4"
  }
 },
 "nbformat": 4,
 "nbformat_minor": 2
}
